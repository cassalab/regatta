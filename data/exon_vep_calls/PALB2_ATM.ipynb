{
 "cells": [
  {
   "cell_type": "code",
   "execution_count": 1,
   "metadata": {},
   "outputs": [],
   "source": [
    "import pandas as pd \n",
    "import requests \n",
    "import pickle\n",
    "import glob"
   ]
  },
  {
   "cell_type": "code",
   "execution_count": 2,
   "metadata": {},
   "outputs": [],
   "source": [
    "df = pd.read_csv(\"MANE.GRCh38.v1.0.ensembl_exon.csv\")\n",
    "\n",
    "def get_sequence(chrom, start, end):\n",
    "    req_string = f\"https://rest.ensembl.org/sequence/region/human/{chrom}:{start}..{end}:1?content-type=text/plain\"\n",
    "    res = requests.get(req_string)\n",
    "    return res.text\n",
    "\n",
    "def get_mutation(chrom, pos, ref):\n",
    "    alt = \"C\"\n",
    "    if ref == \"C\":\n",
    "        alt = \"G\"\n",
    "    req_string = f\"https://rest.ensembl.org/vep/human/hgvs/{chrom}:g.{pos}{ref}>{alt}?canonical=1&content-type=application/json\"\n",
    "    res = requests.get(req_string)\n",
    "    return res\n",
    "\n",
    "\n",
    "def get_cds_from_response(res, gene):\n",
    "    tcs = res[0][\"transcript_consequences\"]\n",
    "    for tc in tcs:\n",
    "        if \"canonical\" in tc.keys() and \"gene_symbol\" in tc.keys():\n",
    "            if tc[\"gene_symbol\"] == gene: \n",
    "                return tc           \n",
    "    return None "
   ]
  },
  {
   "cell_type": "code",
   "execution_count": 7,
   "metadata": {
    "scrolled": false
   },
   "outputs": [
    {
     "name": "stdout",
     "output_type": "stream",
     "text": [
      "PALB2 13\n",
      "skipping PALB2_exon_1\n",
      "skipping PALB2_exon_2\n",
      "skipping PALB2_exon_3\n",
      "skipping PALB2_exon_4\n",
      "skipping PALB2_exon_5\n",
      "skipping PALB2_exon_6\n",
      "skipping PALB2_exon_7\n",
      "skipping PALB2_exon_8\n",
      "skipping PALB2_exon_9\n",
      "skipping PALB2_exon_10\n",
      "skipping PALB2_exon_11\n",
      "skipping PALB2_exon_12\n",
      "skipping PALB2_exon_13\n"
     ]
    }
   ],
   "source": [
    "genes = [\"PALB2\"]\n",
    "\n",
    "covered = glob.glob(\"*.pickle\")\n",
    "\n",
    "for gene in genes:\n",
    "    res_lst = []\n",
    "    gene_df = df.loc[df[\"gene_name\"] == gene]\n",
    "    print(gene, len(gene_df))\n",
    "    if len(gene_df) == 0:\n",
    "        print(\"missing\")\n",
    "        continue\n",
    "    for exon_counter, (index, row) in enumerate(gene_df.iterrows()):\n",
    "        \n",
    "        exon_num = row[\"exon_number\"]\n",
    "        fn = f\"{gene}_exon_{exon_num}.pickle\"\n",
    "        if fn in covered:\n",
    "            print(f\"skipping {gene}_exon_{exon_num}\")\n",
    "            continue\n",
    "        chrom = int(row[\"chr\"].replace(\"chr\", \"\"))\n",
    "        start = row[\"start\"]\n",
    "        end = row[\"end\"]\n",
    "        sequence = get_sequence(chrom, start, end)\n",
    "        print(gene, exon_num, 'seqeunce--', sequence)\n",
    "        exon_lst = []\n",
    "        counter = 0\n",
    "        for nt in list(sequence):\n",
    "            pos = start + counter \n",
    "            res = get_mutation(chrom, pos, nt)\n",
    "            tc = get_cds_from_response(res.json(), gene)\n",
    "            if tc is None:\n",
    "                print(\"found none \")\n",
    "                print(chrom, pos, nt, gene)\n",
    "            tc[\"genomic_pos\"] = pos\n",
    "            tc[\"chrom\"] = chrom\n",
    "            res_lst.append(tc)\n",
    "            exon_lst.append(tc)\n",
    "            counter += 1\n",
    "        with open(f\"{gene}_exon_{exon_num}.pickle\", \"wb\") as f:\n",
    "            pickle.dump(exon_lst, f)\n",
    "        f.close()\n",
    "\n",
    "    with open(f\"{gene}_all.pickle\", \"wb\") as f:\n",
    "        pickle.dump(res_lst, f)\n",
    "    f.close()\n",
    "        "
   ]
  },
  {
   "cell_type": "code",
   "execution_count": null,
   "metadata": {},
   "outputs": [],
   "source": []
  },
  {
   "cell_type": "code",
   "execution_count": null,
   "metadata": {},
   "outputs": [],
   "source": []
  },
  {
   "cell_type": "code",
   "execution_count": null,
   "metadata": {},
   "outputs": [],
   "source": []
  },
  {
   "cell_type": "code",
   "execution_count": null,
   "metadata": {},
   "outputs": [],
   "source": []
  }
 ],
 "metadata": {
  "kernelspec": {
   "display_name": "Python 3 (ipykernel)",
   "language": "python",
   "name": "python3"
  },
  "language_info": {
   "codemirror_mode": {
    "name": "ipython",
    "version": 3
   },
   "file_extension": ".py",
   "mimetype": "text/x-python",
   "name": "python",
   "nbconvert_exporter": "python",
   "pygments_lexer": "ipython3",
   "version": "3.10.10"
  }
 },
 "nbformat": 4,
 "nbformat_minor": 2
}
